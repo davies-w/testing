{
  "nbformat": 4,
  "nbformat_minor": 0,
  "metadata": {
    "colab": {
      "provenance": [],
      "authorship_tag": "ABX9TyNJkETQ0/PcbWy2FuQkp98Q",
      "include_colab_link": true
    },
    "kernelspec": {
      "name": "python3",
      "display_name": "Python 3"
    },
    "language_info": {
      "name": "python"
    }
  },
  "cells": [
    {
      "cell_type": "markdown",
      "metadata": {
        "id": "view-in-github",
        "colab_type": "text"
      },
      "source": [
        "<a href=\"https://colab.research.google.com/github/davies-w/testing/blob/main/testing_mcfee.ipynb\" target=\"_parent\"><img src=\"https://colab.research.google.com/assets/colab-badge.svg\" alt=\"Open In Colab\"/></a>"
      ]
    },
    {
      "cell_type": "code",
      "source": [
        "#@title clone from davies-w/testing & add a path\n",
        "import sys\n",
        "import os\n",
        "import librosa\n",
        "import numpy as np\n",
        "\n",
        "os.chdir('/content/')\n",
        "!git clone 'https://github.com/davies-w/testing.git' 2> /dev/null\n",
        "os.chdir('/content/testing')\n",
        "!git pull\n",
        "\n",
        "sys.path.append('/content/testing')"
      ],
      "metadata": {
        "cellView": "form",
        "id": "dpNWEFPDW5XC",
        "colab": {
          "base_uri": "https://localhost:8080/"
        },
        "outputId": "f58cecb8-4c0c-4a4d-a505-d713e125cd94"
      },
      "execution_count": 2,
      "outputs": [
        {
          "output_type": "stream",
          "name": "stdout",
          "text": [
            "fatal: destination path 'testing' already exists and is not an empty directory.\n",
            "Already up to date.\n"
          ]
        }
      ]
    },
    {
      "cell_type": "code",
      "source": [
        "#@title Testing mcfee\n",
        "# https://stackoverflow.com/questions/77062850/how-to-suppress-python-syntax-warning-highlighting-in-google-colab\n",
        "# pyright ignore[reportMissingImport]\n",
        "# pylint: disable-next==reportMissingImport\n",
        "import mcfee # pylint: disable=reportMissingImport\n",
        "\n",
        "!pip install -q librosa\n",
        "filename = librosa.ex('fishin')\n",
        "y, sr = librosa.load(filename, offset=0.0)\n",
        "\n",
        "_, beats = librosa.beat.beat_track(y=y, sr=sr, trim=False)\n",
        "beats = librosa.util.fix_frames(beats, x_min=0)\n",
        "beat_times = [{'start': t} for t in librosa.frames_to_time(beats, sr=sr)]\n",
        "\n",
        "_, _, _, _, _, _, _, _, _, times, segs = mcfee.mcfee(y, sr, beat_times)\n",
        "print(np.round(times,0))\n",
        "print(segs)"
      ],
      "metadata": {
        "colab": {
          "base_uri": "https://localhost:8080/"
        },
        "id": "KfqZ7YbNZEgN",
        "outputId": "08200871-ba09-4dba-9a6b-f4d8fa789f8f",
        "cellView": "form"
      },
      "execution_count": 3,
      "outputs": [
        {
          "output_type": "stream",
          "name": "stdout",
          "text": [
            "[  0.  11.  17.  22.  28.  33.  52.  64.  70.  75.  81.  86. 105. 133.]\n",
            "[1, 2, 1, 2, 1, 0, 1, 2, 1, 2, 1, 0, 1]\n"
          ]
        }
      ]
    }
  ]
}