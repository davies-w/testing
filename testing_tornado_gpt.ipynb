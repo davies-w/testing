{
  "nbformat": 4,
  "nbformat_minor": 0,
  "metadata": {
    "colab": {
      "provenance": [],
      "authorship_tag": "ABX9TyNpS21mPpz8ZzwqbzjYnBGA",
      "include_colab_link": true
    },
    "kernelspec": {
      "name": "python3",
      "display_name": "Python 3"
    },
    "language_info": {
      "name": "python"
    }
  },
  "cells": [
    {
      "cell_type": "markdown",
      "metadata": {
        "id": "view-in-github",
        "colab_type": "text"
      },
      "source": [
        "<a href=\"https://colab.research.google.com/github/davies-w/testing/blob/main/testing_tornado_gpt.ipynb\" target=\"_parent\"><img src=\"https://colab.research.google.com/assets/colab-badge.svg\" alt=\"Open In Colab\"/></a>"
      ]
    },
    {
      "cell_type": "code",
      "source": [
        "#@title clone from davies-w/testing & add a path\n",
        "import sys\n",
        "import os\n",
        "import librosa\n",
        "import numpy as np\n",
        "\n",
        "os.chdir('/content/')\n",
        "!git clone 'https://github.com/davies-w/testing.git' 2> /dev/null\n",
        "os.chdir('/content/testing')\n",
        "!git pull\n",
        "\n",
        "sys.path.append('/content/testing')\n",
        "\n",
        "!pip install -q librosa\n",
        "filename = librosa.ex('fishin')\n",
        "\n"
      ],
      "metadata": {
        "cellView": "form",
        "id": "dpNWEFPDW5XC",
        "colab": {
          "base_uri": "https://localhost:8080/"
        },
        "outputId": "a463a454-3eee-4589-d2ba-cdb8ebabc530"
      },
      "execution_count": null,
      "outputs": [
        {
          "output_type": "stream",
          "name": "stdout",
          "text": [
            "remote: Enumerating objects: 5, done.\u001b[K\n",
            "remote: Counting objects:  20% (1/5)\u001b[K\rremote: Counting objects:  40% (2/5)\u001b[K\rremote: Counting objects:  60% (3/5)\u001b[K\rremote: Counting objects:  80% (4/5)\u001b[K\rremote: Counting objects: 100% (5/5)\u001b[K\rremote: Counting objects: 100% (5/5), done.\u001b[K\n",
            "remote: Compressing objects: 100% (1/1)\u001b[K\rremote: Compressing objects: 100% (1/1), done.\u001b[K\n",
            "remote: Total 3 (delta 2), reused 3 (delta 2), pack-reused 0\u001b[K\n",
            "Unpacking objects:  33% (1/3)\rUnpacking objects:  66% (2/3)\rUnpacking objects: 100% (3/3)\rUnpacking objects: 100% (3/3), 291 bytes | 291.00 KiB/s, done.\n",
            "From https://github.com/davies-w/testing\n",
            "   a7cf47a..d539ec6  main       -> origin/main\n",
            "Updating a7cf47a..d539ec6\n",
            "Fast-forward\n",
            " tornado_mcfee.py | 2 \u001b[32m+\u001b[m\u001b[31m-\u001b[m\n",
            " 1 file changed, 1 insertion(+), 1 deletion(-)\n"
          ]
        }
      ]
    },
    {
      "cell_type": "code",
      "source": [
        "#@title testing tornado_mcfee\n",
        "%%shell\n",
        "python ./tornado_mcfee.py <<EOF\n",
        " {\"harmony_stem_files\" :  [\"/root/.cache/librosa/Karissa_Hobbs_-_Lets_Go_Fishin.ogg\"]\n",
        " }\n",
        "EOF"
      ],
      "metadata": {
        "colab": {
          "base_uri": "https://localhost:8080/"
        },
        "id": "KfqZ7YbNZEgN",
        "outputId": "fc4f75ca-9195-4250-bedb-db98e120cb91"
      },
      "execution_count": null,
      "outputs": [
        {
          "output_type": "stream",
          "name": "stdout",
          "text": [
            "[\n",
            "    {\n",
            "        \"start\": 0.0,\n",
            "        \"label\": 1\n",
            "    },\n",
            "    {\n",
            "        \"start\": 11.331,\n",
            "        \"label\": 0\n",
            "    },\n",
            "    {\n",
            "        \"start\": 16.718,\n",
            "        \"label\": 1\n",
            "    },\n",
            "    {\n",
            "        \"start\": 22.268,\n",
            "        \"label\": 0\n",
            "    },\n",
            "    {\n",
            "        \"start\": 27.748,\n",
            "        \"label\": 1\n",
            "    },\n",
            "    {\n",
            "        \"start\": 32.81,\n",
            "        \"label\": 2\n",
            "    },\n",
            "    {\n",
            "        \"start\": 52.245,\n",
            "        \"label\": 1\n",
            "    },\n",
            "    {\n",
            "        \"start\": 63.994,\n",
            "        \"label\": 0\n",
            "    },\n",
            "    {\n",
            "        \"start\": 69.776,\n",
            "        \"label\": 1\n",
            "    },\n",
            "    {\n",
            "        \"start\": 75.07,\n",
            "        \"label\": 0\n",
            "    },\n",
            "    {\n",
            "        \"start\": 80.759,\n",
            "        \"label\": 1\n",
            "    },\n",
            "    {\n",
            "        \"start\": 86.355,\n",
            "        \"label\": 2\n",
            "    },\n",
            "    {\n",
            "        \"start\": 104.676,\n",
            "        \"label\": 1\n",
            "    }\n",
            "]"
          ]
        },
        {
          "output_type": "execute_result",
          "data": {
            "text/plain": []
          },
          "metadata": {},
          "execution_count": 21
        }
      ]
    },
    {
      "cell_type": "code",
      "source": [],
      "metadata": {
        "id": "UCNR8MSK0x3M"
      },
      "execution_count": null,
      "outputs": []
    }
  ]
}