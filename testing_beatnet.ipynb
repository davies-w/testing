{
  "nbformat": 4,
  "nbformat_minor": 0,
  "metadata": {
    "colab": {
      "provenance": [],
      "authorship_tag": "ABX9TyMlsLQlRZAIG8Cro5pUCv2U",
      "include_colab_link": true
    },
    "kernelspec": {
      "name": "python3",
      "display_name": "Python 3"
    },
    "language_info": {
      "name": "python"
    }
  },
  "cells": [
    {
      "cell_type": "markdown",
      "metadata": {
        "id": "view-in-github",
        "colab_type": "text"
      },
      "source": [
        "<a href=\"https://colab.research.google.com/github/davies-w/testing/blob/main/testing_beatnet.ipynb\" target=\"_parent\"><img src=\"https://colab.research.google.com/assets/colab-badge.svg\" alt=\"Open In Colab\"/></a>"
      ]
    },
    {
      "cell_type": "code",
      "source": [
        "#@title clone from davies-w/testing & add a path\n",
        "import sys\n",
        "import os\n",
        "import librosa\n",
        "import numpy as np\n",
        "\n",
        "\n",
        "os.chdir('/content/')\n",
        "!git clone 'https://github.com/davies-w/testing.git' 2> /dev/null\n",
        "os.chdir('/content/testing')\n",
        "!git pull\n",
        "\n",
        "sys.path.append('/content/testing')"
      ],
      "metadata": {
        "id": "dpNWEFPDW5XC",
        "colab": {
          "base_uri": "https://localhost:8080/"
        },
        "outputId": "db5e7f8b-70c8-4050-b1aa-c591787b4793"
      },
      "execution_count": 1,
      "outputs": [
        {
          "output_type": "stream",
          "name": "stdout",
          "text": [
            "Already up to date.\n"
          ]
        }
      ]
    },
    {
      "cell_type": "code",
      "source": [
        "!pip install -q pydub\n",
        "!pip install -q cython > /dev/null\n",
        "!pip install -q numba > /dev/null\n",
        "!pip install -q librosa > /dev/null\n",
        "!pip install -q mido > /dev/null\n",
        "!pip install -q pytest > /dev/null\n",
        "!apt-get install portaudio19-dev > /dev/null\n",
        "!pip install -q pyaudio  > /dev/null\n",
        "!pip install --upgrade --no-deps --force-reinstall --quiet 'git+https://github.com/CPJKU/madmom.git'  > /dev/null\n",
        "!pip install --upgrade --no-deps --force-reinstall --quiet 'git+https://github.com/davies-w/BeatNet.git'  > /dev/null"
      ],
      "metadata": {
        "id": "euVZ2rUdBpVP"
      },
      "execution_count": 2,
      "outputs": []
    },
    {
      "cell_type": "code",
      "source": [
        "#@title Testing beatnet\n",
        "# https://stackoverflow.com/questions/77062850/how-to-suppress-python-syntax-warning-highlighting-in-google-colab\n",
        "# pyright ignore[reportMissingImport]\n",
        "# pylint: disable-next==reportMissingImport\n",
        "import beatnet # pylint: disable=reportMissingImport\n",
        "\n",
        "filename = librosa.ex('fishin')\n",
        "\n",
        "beatnet.beatnet({\"drums\": filename, \"full\": filename, \"drumoffset\":True, \"beatnet_selector\": 1, \"bars\": True})[0:10]\n"
      ],
      "metadata": {
        "colab": {
          "base_uri": "https://localhost:8080/"
        },
        "id": "KfqZ7YbNZEgN",
        "outputId": "0f78d9e9-6631-43f6-a75d-d36ba41bd64b"
      },
      "execution_count": 5,
      "outputs": [
        {
          "output_type": "stream",
          "name": "stdout",
          "text": [
            "{'drums': '/root/.cache/librosa/Karissa_Hobbs_-_Lets_Go_Fishin.ogg', 'full': '/root/.cache/librosa/Karissa_Hobbs_-_Lets_Go_Fishin.ogg', 'drumoffset': True, 'beatnet_selector': 1, 'bars': True}\n"
          ]
        },
        {
          "output_type": "execute_result",
          "data": {
            "text/plain": [
              "[{'start': 0.22},\n",
              " {'start': 1.58},\n",
              " {'start': 2.94},\n",
              " {'start': 4.3},\n",
              " {'start': 5.64},\n",
              " {'start': 7.0},\n",
              " {'start': 8.36},\n",
              " {'start': 9.72},\n",
              " {'start': 11.06},\n",
              " {'start': 12.42}]"
            ]
          },
          "metadata": {},
          "execution_count": 5
        }
      ]
    }
  ]
}