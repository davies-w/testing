{
  "nbformat": 4,
  "nbformat_minor": 0,
  "metadata": {
    "colab": {
      "provenance": [],
      "authorship_tag": "ABX9TyP1RAaKKww21ZjA9lg/lCrO",
      "include_colab_link": true
    },
    "kernelspec": {
      "name": "python3",
      "display_name": "Python 3"
    },
    "language_info": {
      "name": "python"
    }
  },
  "cells": [
    {
      "cell_type": "markdown",
      "metadata": {
        "id": "view-in-github",
        "colab_type": "text"
      },
      "source": [
        "<a href=\"https://colab.research.google.com/github/davies-w/testing/blob/main/testing_np_json.ipynb\" target=\"_parent\"><img src=\"https://colab.research.google.com/assets/colab-badge.svg\" alt=\"Open In Colab\"/></a>"
      ]
    },
    {
      "cell_type": "code",
      "source": [
        "#@title clone from davies-w/testing & add a path\n",
        "import sys\n",
        "import os\n",
        "import librosa\n",
        "import numpy as np\n",
        "\n",
        "os.chdir('/content/')\n",
        "!git clone 'https://github.com/davies-w/testing.git' 2> /dev/null\n",
        "os.chdir('/content/testing')\n",
        "!git pull\n",
        "\n",
        "sys.path.append('/content/testing')"
      ],
      "metadata": {
        "id": "dpNWEFPDW5XC",
        "colab": {
          "base_uri": "https://localhost:8080/"
        },
        "outputId": "0a51c046-d698-42ec-d435-15435bf28583"
      },
      "execution_count": 1,
      "outputs": [
        {
          "output_type": "stream",
          "name": "stdout",
          "text": [
            "Already up to date.\n"
          ]
        }
      ]
    },
    {
      "cell_type": "code",
      "source": [
        "#@title Testing np_json\n",
        "import np_json\n",
        "\n",
        "test_array = [[1.0, 1]]\n",
        "test_np_array = np.array([np.array([np.float64(1.0), np.uint64(1)])])\n",
        "test_dict = {\"array\" : test_array, \"test_np_array\": test_np_array}\n",
        "\n",
        "#\n",
        "# save actual stdin/stdout.\n",
        "from io import StringIO\n",
        "\n",
        "\n",
        "\n",
        "tmp_stdin = sys.stdin\n",
        "tmp_stdout = sys.stdout\n",
        "\n",
        "fake_out = StringIO()\n",
        "\n",
        "sys.stdout = fake_out\n",
        "sys.stdin = fake_out\n",
        "\n",
        "np_json.to_stdout(test_dict)\n",
        "fake_out.seek(0)\n",
        "new_obj = np_json.from_stdin()\n",
        "\n",
        "\n",
        "\n",
        "sys.stdin = tmp_stdin\n",
        "sys.stdout = tmp_stdout\n",
        "\n",
        "print(\"\\n\\nPython Original:\")\n",
        "print(test_dict)\n",
        "\n",
        "\n",
        "print(\"\\n\\nJSON I/O:\")\n",
        "fake_out.seek(0)\n",
        "for l in fake_out.readlines():\n",
        "  print(l, end=\"\")\n",
        "\n",
        "print(\"\\n\\nPython Object:\")\n",
        "print(new_obj)\n",
        "\n",
        "\n"
      ],
      "metadata": {
        "colab": {
          "base_uri": "https://localhost:8080/"
        },
        "id": "kgpZ4Z2tofJM",
        "outputId": "913e1c1f-e580-41f0-b17c-6ce655a3d85a",
        "cellView": "form"
      },
      "execution_count": 2,
      "outputs": [
        {
          "output_type": "stream",
          "name": "stdout",
          "text": [
            "\n",
            "\n",
            "Python Original:\n",
            "{'array': [[1.0, 1]], 'test_np_array': array([[1., 1.]])}\n",
            "\n",
            "\n",
            "JSON I/O:\n",
            "{\n",
            "    \"array\": [\n",
            "        [\n",
            "            1.0,\n",
            "            1\n",
            "        ]\n",
            "    ],\n",
            "    \"test_np_array\": [\n",
            "        [\n",
            "            1.0,\n",
            "            1.0\n",
            "        ]\n",
            "    ]\n",
            "}\n",
            "\n",
            "Python Object:\n",
            "{'array': [[1.0, 1]], 'test_np_array': [[1.0, 1.0]]}\n"
          ]
        }
      ]
    }
  ]
}